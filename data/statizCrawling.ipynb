{
 "cells": [
  {
   "cell_type": "code",
   "execution_count": 1,
   "metadata": {
    "colab": {
     "base_uri": "https://localhost:8080/"
    },
    "id": "GxXLdJc9d1z8",
    "outputId": "9b9d228b-fc38-46f9-9a91-5e5e6e74aa9b"
   },
   "outputs": [
    {
     "name": "stdout",
     "output_type": "stream",
     "text": [
      "Requirement already satisfied: beautifulsoup4 in /Users/hc/anaconda3/lib/python3.11/site-packages (4.12.2)\r\n",
      "Requirement already satisfied: soupsieve>1.2 in /Users/hc/anaconda3/lib/python3.11/site-packages (from beautifulsoup4) (2.4)\r\n"
     ]
    }
   ],
   "source": [
    "!pip install beautifulsoup4\n",
    "import requests\n",
    "from bs4 import BeautifulSoup\n",
    "import pandas as pd\n",
    "\n",
    "# google colab\n",
    "# modify url example: sn=30 -> sn=370 => show 30 players -> show 370players\n",
    "# php형식이라서 url의 php?뒷 부분을 수정해서 조건을 생성하거나, 조건을 수정할 수 있음.\n",
    "url = 'http://www.statiz.co.kr/stat.php?mid=stat&re=0&ys=2023&ye=2023&se=0&te=&tm=&ty=0&qu=all&po=0&as=&ae=&hi=&un=&pl=&da=10&o1=TPA&o2=WAR_ALL&de=1&lr=0&tr=&cv=&ml=1&sn=300&si=&cn='\n",
    "\n",
    "response = requests.get(url)\n",
    "\n",
    "html = response.text\n",
    "soup = BeautifulSoup(html, 'html.parser')\n",
    "temp = soup.find_all(\"table\")[0]\n",
    "\n",
    "#url에 맞는 데이터 프레임 생성. 하나하나 다 수정해야 함. range: 선수 인원\n",
    "df = pd.DataFrame(index = range(293), columns = [\"순\", \"이름\", \"팀/포지션\", \"정렬용\", \"타석\", \"<2&3B_N\", \"<2&3B_%\", \"O&2B_N\", \"O&2B_%\", \"O12_N\", \"O12_%\", \"O23_N\", \"O23_%\", \"O34_N\",\n",
    "                                                 \"O34_%\", \"O+_N\", \"O+_%\", \"H13_N\",\"H13_%\",\"H24_N\",\"H24_%\",\"D14_N\",\"D14_%\",\"H+_N\",\"H+_%\",\"ADV_N\",\"ADV_%\",\"ADV_G\"])\n",
    "df\n",
    "\n",
    "l = 0\n",
    "temp2 = temp.find_all(\"tr\")[3]\n",
    "# range: 선수 인원 + ((선수인원/10)+1)*2(중간 지표들 자리 포함해서 카운팅해야 끝까지 크롤링함)\n",
    "for j in range(2,353):\n",
    "    temp2 = temp.find_all(\"tr\")[j]\n",
    "    # 프레임\n",
    "    if len(temp2.find_all(\"td\")) == 28:\n",
    "        for i in range(28):\n",
    "            temp3 = temp2.find_all(\"td\")[i]\n",
    "            df.iloc[l,i] = temp3.get_text()\n",
    "        l += 1\n",
    "\n",
    "df\n",
    "df.to_csv('battersTeambat2.csv', index=False)\n"
   ]
  },
  {
   "cell_type": "code",
   "execution_count": null,
   "metadata": {},
   "outputs": [],
   "source": []
  }
 ],
 "metadata": {
  "colab": {
   "provenance": []
  },
  "kernelspec": {
   "display_name": "Python 3 (ipykernel)",
   "language": "python",
   "name": "python3"
  },
  "language_info": {
   "codemirror_mode": {
    "name": "ipython",
    "version": 3
   },
   "file_extension": ".py",
   "mimetype": "text/x-python",
   "name": "python",
   "nbconvert_exporter": "python",
   "pygments_lexer": "ipython3",
   "version": "3.11.4"
  }
 },
 "nbformat": 4,
 "nbformat_minor": 1
}
