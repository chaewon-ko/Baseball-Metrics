{
  "cells": [
    {
      "cell_type": "code",
      "execution_count": null,
      "metadata": {
        "colab": {
          "base_uri": "https://localhost:8080/"
        },
        "id": "GxXLdJc9d1z8",
        "outputId": "9b9d228b-fc38-46f9-9a91-5e5e6e74aa9b"
      },
      "outputs": [
        {
          "name": "stdout",
          "output_type": "stream",
          "text": [
            "Requirement already satisfied: beautifulsoup4 in /usr/local/lib/python3.10/dist-packages (4.11.2)\n",
            "Requirement already satisfied: soupsieve>1.2 in /usr/local/lib/python3.10/dist-packages (from beautifulsoup4) (2.5)\n"
          ]
        }
      ],
      "source": [
        "!pip install beautifulsoup4\n",
        "import requests\n",
        "from bs4 import BeautifulSoup\n",
        "import pandas as pd\n",
        "\n",
        "# google colab\n",
        "# modify url example: sn=30 -> sn=370 => show 30 players -> show 370players\n",
        "# php형식이라서 url의 php?뒷 부분을 수정해서 조건을 생성하거나, 조건을 수정할 수 있음.\n",
        "url = 'http://www.statiz.co.kr/stat.php?opt=0&sopt=0&re=0&ys=2023&ye=2023&se=0&te=&tm=&ty=0&qu=all&po=0&as=&ae=&hi=&un=&pl=&da=5&o1=PPA&de=1&o2=WAR_ALL&lr=0&tr=&cv=&ml=1&sn=370&si=&cn=AB,1,0,RBI,,0'\n",
        "\n",
        "response = requests.get(url)\n",
        "\n",
        "html = response.text\n",
        "soup = BeautifulSoup(html, 'html.parser')\n",
        "temp = soup.find_all(\"table\")[0]\n",
        "\n",
        "#url에 맞는 데이터 프레임 생성. 하나하나 다 수정해야 함. range: 선수 인원\n",
        "df = pd.DataFrame(index = range(293), columns = [\"순\", \"이름\", \"팀/포지션\", \"정렬용\", \"타석\", \"투구수\", \"P/PA\", \"루킹\", \"헛스윙\", \"파울\", \"타격\", \"투구S%\", \"투구B%\", \"배트적극성_전체\",\n",
        "                                                 \"배트적극성_초구\", \"컨택%\", \"2S후커트%\", \"2S후선구%\", \"스윙삼진\", \"루킹삼진\", \"LSO%\", \"배팅찬스N\", \"배팅찬스스윙\", \"배팅찬스W%\"])\n",
        "df\n",
        "\n",
        "l = 0\n",
        "temp2 = temp.find_all(\"tr\")[3]\n",
        "# range: 선수 인원 + ((선수인원/10)+1)*2(중간 지표들 자리 포함해서 카운팅해야 끝까지 크롤링함)\n",
        "for j in range(2,353):\n",
        "    temp2 = temp.find_all(\"tr\")[j]\n",
        "    # 프레임\n",
        "    if len(temp2.find_all(\"td\")) == 24:\n",
        "        for i in range(24):\n",
        "            temp3 = temp2.find_all(\"td\")[i]\n",
        "            df.iloc[l,i] = temp3.get_text()\n",
        "        l += 1\n",
        "\n",
        "df\n",
        "df.to_csv('battersPA.csv', index=False)\n"
      ]
    }
  ],
  "metadata": {
    "colab": {
      "provenance": []
    },
    "kernelspec": {
      "display_name": "Python 3",
      "name": "python3"
    },
    "language_info": {
      "name": "python"
    }
  },
  "nbformat": 4,
  "nbformat_minor": 0
}
